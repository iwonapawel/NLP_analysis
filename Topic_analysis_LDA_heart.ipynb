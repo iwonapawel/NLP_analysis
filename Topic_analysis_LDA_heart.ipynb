{
 "cells": [
  {
   "cell_type": "markdown",
   "metadata": {},
   "source": [
    "### Topic analysis of PubMedHealth articles (summaries) - 'heart disease' :"
   ]
  },
  {
   "cell_type": "code",
   "execution_count": 1,
   "metadata": {
    "collapsed": true
   },
   "outputs": [],
   "source": [
    "from pymongo import MongoClient"
   ]
  },
  {
   "cell_type": "code",
   "execution_count": 2,
   "metadata": {
    "collapsed": false
   },
   "outputs": [
    {
     "name": "stdout",
     "output_type": "stream",
     "text": [
      "5143\n"
     ]
    }
   ],
   "source": [
    "client = MongoClient()\n",
    "collection = client.pubmedhealth.heart\n",
    "cursor = collection.find()\n",
    "print cursor.count()"
   ]
  },
  {
   "cell_type": "code",
   "execution_count": 3,
   "metadata": {
    "collapsed": false
   },
   "outputs": [
    {
     "name": "stdout",
     "output_type": "stream",
     "text": [
      "[{u'url': u'http://eutils.ncbi.nlm.nih.gov/entrez/eutils/esummary.fcgi?db=pubmedhealth&retmode=json&id=86286', u'_id': ObjectId('5702cc7995791a10103a4255'), u'summary': u'Omega-3 (n-3) fatty acids are essential polyunsaturated fatty acids (PUFAs) \\\\u2013 fatty acid structures with two or more double bonds. Fatty fish, nuts, and seeds are good dietary sources of n-3s. Dietary sources vary in the composition of essential fatty acids. Fatty fish and fish oils provide a rich source of long-chain (LC) n-3s like eicosapentaenoic acid (EPA) and docosahexaenoic acid (DHA), while plant sources are higher in the less therapeutically relevant metabolic precursor alpha-linolenic acid. Various structure-function relationships throughout the body are supported by n-3s. They contribute membrane fluidity through their presence in phospholipid cell membranes and participate in metabolic processes including the provision of cellular energy, optimal neuronal function, and visual acuity. They are also precursors for eicosanoids which act as paracrine hormones and contribute to blood vessel permeability, platelet activity, and modification of inflammatory processes. Thus, they are lauded for their potential cardiovascular, anti-inflammatory, and neurological protective properties.'}]\n"
     ]
    }
   ],
   "source": [
    "documents = list(cursor)\n",
    "print documents[:1]"
   ]
  },
  {
   "cell_type": "code",
   "execution_count": 4,
   "metadata": {
    "collapsed": true
   },
   "outputs": [],
   "source": [
    "from textblob import TextBlob\n",
    "from nltk.corpus import stopwords\n",
    "from nltk.stem.porter import PorterStemmer"
   ]
  },
  {
   "cell_type": "code",
   "execution_count": 5,
   "metadata": {
    "collapsed": false
   },
   "outputs": [
    {
     "name": "stdout",
     "output_type": "stream",
     "text": [
      "[[u'omega-3', u'n-3', u'fatti', u'acid', u'essenti', u'polyunsatur', u'fatti', u'acid', u'pufa', u'u2013', u'fatti', u'acid', u'structur', u'two', u'doubl', u'bond', u'fatti', u'fish', u'nut', u'seed', u'good', u'dietari', u'sourc', u'n-3', u'dietari', u'sourc', u'vari', u'composit', u'essenti', u'fatti', u'acid', u'fatti', u'fish', u'fish', u'oil', u'provid', u'rich', u'sourc', u'long-chain', u'lc', u'n-3', u'like', u'eicosapentaeno', u'acid', u'epa', u'docosahexaeno', u'acid', u'dha', u'plant', u'sourc', u'higher', u'less', u'therapeut', u'relev', u'metabol', u'precursor', u'alpha-linolen', u'acid', u'variou', u'structure-funct', u'relationship', u'throughout', u'bodi', u'support', u'n-3', u'contribut', u'membran', u'fluiditi', u'presenc', u'phospholipid', u'cell', u'membran', u'particip', u'metabol', u'process', u'includ', u'provis', u'cellular', u'energi', u'optim', u'neuron', u'function', u'visual', u'acuiti', u'also', u'precursor', u'eicosanoid', u'act', u'paracrin', u'hormon', u'contribut', u'blood', u'vessel', u'permeabl', u'platelet', u'activ', u'modif', u'inflammatori', u'process', u'thu', u'laud', u'potenti', u'cardiovascular', u'anti-inflammatori', u'neurolog', u'protect', u'properti'], [u'purpos', u'review', u'assess', u'clinic', u'cost-effect', u'n-3', u'fatti', u'acid', u'supplement', u'reduct', u'proteinuria', u'patient', u'nephrot', u'syndrom']]\n"
     ]
    }
   ],
   "source": [
    "stop = stopwords.words('english')\n",
    "stemmer = PorterStemmer()\n",
    "stop_stem_docs = []\n",
    "\n",
    "for i, doc in enumerate(documents):\n",
    "    summary = doc['summary'].lower()\n",
    "    stopped = [word for word in TextBlob(summary).words if word not in stop]\n",
    "    stemmed = [stemmer.stem(word) for word in stopped]\n",
    "    stop_stem_docs.append(stemmed)\n",
    "print stop_stem_docs[:2]"
   ]
  },
  {
   "cell_type": "code",
   "execution_count": 6,
   "metadata": {
    "collapsed": false
   },
   "outputs": [
    {
     "name": "stdout",
     "output_type": "stream",
     "text": [
      "Number of processed documents = 5143\n"
     ]
    }
   ],
   "source": [
    "print 'Number of processed documents = %d' % len(stop_stem_docs)"
   ]
  },
  {
   "cell_type": "code",
   "execution_count": 7,
   "metadata": {
    "collapsed": true
   },
   "outputs": [],
   "source": [
    "from gensim import corpora, models, similarities\n",
    "import gensim"
   ]
  },
  {
   "cell_type": "code",
   "execution_count": 8,
   "metadata": {
    "collapsed": false
   },
   "outputs": [
    {
     "name": "stdout",
     "output_type": "stream",
     "text": [
      "Dictionary(12715 unique tokens: [u'nordisk', u'1,778', u'woodi', u'four', u'marfan']...)\n"
     ]
    }
   ],
   "source": [
    "unique_words = corpora.Dictionary(stop_stem_docs)\n",
    "print unique_words"
   ]
  },
  {
   "cell_type": "code",
   "execution_count": 1,
   "metadata": {
    "collapsed": false
   },
   "outputs": [],
   "source": [
    "#print unique_words.token2id"
   ]
  },
  {
   "cell_type": "code",
   "execution_count": 10,
   "metadata": {
    "collapsed": false
   },
   "outputs": [
    {
     "name": "stdout",
     "output_type": "stream",
     "text": [
      "5143\n"
     ]
    }
   ],
   "source": [
    "corpus = [unique_words.doc2bow(doc) for doc in stop_stem_docs]\n",
    "print len(corpus)"
   ]
  },
  {
   "cell_type": "code",
   "execution_count": 21,
   "metadata": {
    "collapsed": false
   },
   "outputs": [
    {
     "name": "stdout",
     "output_type": "stream",
     "text": [
      "CPU times: user 7min 32s, sys: 10.9 s, total: 7min 43s\n",
      "Wall time: 7min 34s\n"
     ]
    }
   ],
   "source": [
    "%time ldamodel = models.LdaModel(corpus, num_topics = 5, id2word=unique_words, passes = 100)"
   ]
  },
  {
   "cell_type": "code",
   "execution_count": 22,
   "metadata": {
    "collapsed": false
   },
   "outputs": [
    {
     "data": {
      "text/plain": [
       "[(0,\n",
       "  u'0.017*review + 0.015*evid + 0.014*studi + 0.012*effect + 0.011*intervent + 0.010*outcom + 0.010*health + 0.010*use + 0.008*systemat + 0.008*report'),\n",
       " (1,\n",
       "  u'0.023*review + 0.020*patient + 0.016*heart + 0.015*diseas + 0.014*effect + 0.014*studi + 0.013*conclus + 0.011*risk + 0.011*author + 0.010*conclud'),\n",
       " (2,\n",
       "  u'0.018*studi + 0.018*care + 0.015*review + 0.013*guidelin + 0.013*search + 0.010*identifi + 0.010*health + 0.009*articl + 0.009*includ + 0.008*use'),\n",
       " (3,\n",
       "  u'0.020*diseas + 0.017*blood + 0.011*risk + 0.011*heart + 0.010*caus + 0.009*peopl + 0.008*increas + 0.008*year + 0.007*arteri + 0.006*death'),\n",
       " (4,\n",
       "  u'0.018*cancer + 0.017*treatment + 0.013*patient + 0.010*use + 0.009*atrial + 0.008*depress + 0.007*fibril + 0.007*af + 0.007*risk + 0.006*disord')]"
      ]
     },
     "execution_count": 22,
     "metadata": {},
     "output_type": "execute_result"
    }
   ],
   "source": [
    "ldamodel.show_topics()"
   ]
  },
  {
   "cell_type": "code",
   "execution_count": 23,
   "metadata": {
    "collapsed": false
   },
   "outputs": [
    {
     "name": "stdout",
     "output_type": "stream",
     "text": [
      "<type 'list'>\n",
      "5\n"
     ]
    }
   ],
   "source": [
    "num_top_words = 5 \n",
    "topics_words = ldamodel.show_topics(num_words=num_top_words)\n",
    "print type(topics_words)\n",
    "print len(topics_words)"
   ]
  },
  {
   "cell_type": "code",
   "execution_count": 24,
   "metadata": {
    "collapsed": true
   },
   "outputs": [],
   "source": [
    "import matplotlib.pyplot as plt\n",
    "%matplotlib inline"
   ]
  },
  {
   "cell_type": "code",
   "execution_count": 28,
   "metadata": {
    "collapsed": false
   },
   "outputs": [
    {
     "data": {
      "image/png": "[encoded data removed]",
      "text/plain": [
       "<matplotlib.figure.Figure at 0x112acc3d0>"
      ]
     },
     "metadata": {},
     "output_type": "display_data"
    }
   ],
   "source": [
    "plt.figure(figsize=(16,6))\n",
    "for topic in topics_words:\n",
    "    plt.subplot(1,len(topics_words),int(topic[0])+1)\n",
    "    plt.ylim(0, num_top_words + 0.5)\n",
    "    plt.xticks([]) \n",
    "    plt.yticks([])\n",
    "    plt.title('Topic # %s' % topic[0])\n",
    "    #print 'Topic # %s' % topic[0]\n",
    "    word_prob = topic[1].split(\"+\")\n",
    "    for _,i in enumerate(word_prob):\n",
    "        prob,word = i.split(\"*\")\n",
    "        #print prob + \" : \" +  word\n",
    "        plt.text(0.3, num_top_words-_-0.5,word,fontsize=1000 * float(prob))\n",
    "plt.show()"
   ]
  }
 ],
 "metadata": {
  "kernelspec": {
   "display_name": "Python 2",
   "language": "python",
   "name": "python2"
  },
  "language_info": {
   "codemirror_mode": {
    "name": "ipython",
    "version": 2
   },
   "file_extension": ".py",
   "mimetype": "text/x-python",
   "name": "python",
   "nbconvert_exporter": "python",
   "pygments_lexer": "ipython2",
   "version": "2.7.9"
  }
 },
 "nbformat": 4,
 "nbformat_minor": 0
}
