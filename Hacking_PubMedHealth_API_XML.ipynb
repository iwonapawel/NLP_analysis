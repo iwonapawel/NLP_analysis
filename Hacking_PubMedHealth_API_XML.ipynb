{
 "cells": [
  {
   "cell_type": "code",
   "execution_count": 1,
   "metadata": {
    "collapsed": false
   },
   "outputs": [],
   "source": [
    "import urllib2\n",
    "from bs4 import BeautifulSoup\n",
    "\n",
    "url = 'http://eutils.ncbi.nlm.nih.gov/entrez/eutils/esearch.fcgi?db=pubmedhealth&term=asthma&retmax=10000&usehistory=y'\n",
    "page = urllib2.urlopen(url)\n",
    "soup = BeautifulSoup(page)\n",
    "#print(soup.prettify())"
   ]
  },
  {
   "cell_type": "code",
   "execution_count": 2,
   "metadata": {
    "collapsed": false
   },
   "outputs": [],
   "source": [
    "#print soup.find_all('id')"
   ]
  },
  {
   "cell_type": "code",
   "execution_count": 3,
   "metadata": {
    "collapsed": true
   },
   "outputs": [],
   "source": [
    "def get_url(article_id):\n",
    "    \"\"\"For each article returns url\"\"\"\n",
    "    return \"http://eutils.ncbi.nlm.nih.gov/entrez/eutils/esummary.fcgi?db=pubmedhealth&id=%s\" % article_id"
   ]
  },
  {
   "cell_type": "code",
   "execution_count": 4,
   "metadata": {
    "collapsed": true
   },
   "outputs": [],
   "source": [
    "def get_teaser(article_url):\n",
    "    \"\"\"For each article returns abstract\"\"\"\n",
    "    art_page = urllib2.urlopen(article_url)\n",
    "    art_soup = BeautifulSoup(art_page)\n",
    "    abstract = art_soup.find('teaser').text\n",
    "    return abstract\n",
    "    "
   ]
  },
  {
   "cell_type": "code",
   "execution_count": 26,
   "metadata": {
    "collapsed": false
   },
   "outputs": [
    {
     "name": "stdout",
     "output_type": "stream",
     "text": [
      "1541\n"
     ]
    }
   ],
   "source": [
    "abstract_list = []\n",
    "ids = soup.find_all('id')\n",
    "\n",
    "for _ in ids:\n",
    "    my_dict={}\n",
    "    article = _.text\n",
    "    art_url = get_url(article)\n",
    "    abstract = get_teaser(art_url)\n",
    "    my_dict[\"url\"] = art_url\n",
    "    my_dict[\"abstract\"] = abstract\n",
    "    abstract_list.append(my_dict)\n",
    "\n",
    "print len(abstract_list)\n"
   ]
  },
  {
   "cell_type": "code",
   "execution_count": 28,
   "metadata": {
    "collapsed": false
   },
   "outputs": [
    {
     "data": {
      "text/plain": [
       "{'abstract': u'We identified 3266 nonduplicative titles or abstracts with potential relevance, with 920 proceeding to full text review (Figure 2). We excluded 844 studies at full text review and included 68 unique studies (76 publications) in the review. We present findings by intervention and outcome area where possible under each Key Question (KQ). Comparative studies and case series that provided harms or data on successful controlling of bleeding are also described in more detail in summary tables in each KQ. We tabulated success rates reported in studies of procedures and surgical approaches in which we could extract data on the effectiveness of the intervention as the initial second-line intervention (i.e., first intervention following routine conservative management) and defined success as controlling of bleeding without need for additional procedures or surgeries.',\n",
       " 'url': u'http://eutils.ncbi.nlm.nih.gov/entrez/eutils/esummary.fcgi?db=pubmedhealth&id=77985'}"
      ]
     },
     "execution_count": 28,
     "metadata": {},
     "output_type": "execute_result"
    }
   ],
   "source": [
    "abstract_list[0]"
   ]
  },
  {
   "cell_type": "code",
   "execution_count": 29,
   "metadata": {
    "collapsed": true
   },
   "outputs": [],
   "source": [
    "from pymongo import MongoClient\n",
    "client = MongoClient()"
   ]
  },
  {
   "cell_type": "code",
   "execution_count": 30,
   "metadata": {
    "collapsed": true
   },
   "outputs": [],
   "source": [
    "db = client.pubmedhealth\n",
    "abstracts = client.pubmedhealth.abstracts"
   ]
  },
  {
   "cell_type": "code",
   "execution_count": 31,
   "metadata": {
    "collapsed": false
   },
   "outputs": [
    {
     "data": {
      "text/plain": [
       "ObjectId('55677bc7b90ccd04512e3e95')"
      ]
     },
     "execution_count": 31,
     "metadata": {},
     "output_type": "execute_result"
    }
   ],
   "source": [
    "abstracts.insert(abstract_list[0])"
   ]
  },
  {
   "cell_type": "code",
   "execution_count": 32,
   "metadata": {
    "collapsed": false
   },
   "outputs": [
    {
     "data": {
      "text/plain": [
       "{u'_id': ObjectId('55677bc7b90ccd04512e3e95'),\n",
       " u'abstract': u'We identified 3266 nonduplicative titles or abstracts with potential relevance, with 920 proceeding to full text review (Figure 2). We excluded 844 studies at full text review and included 68 unique studies (76 publications) in the review. We present findings by intervention and outcome area where possible under each Key Question (KQ). Comparative studies and case series that provided harms or data on successful controlling of bleeding are also described in more detail in summary tables in each KQ. We tabulated success rates reported in studies of procedures and surgical approaches in which we could extract data on the effectiveness of the intervention as the initial second-line intervention (i.e., first intervention following routine conservative management) and defined success as controlling of bleeding without need for additional procedures or surgeries.',\n",
       " u'url': u'http://eutils.ncbi.nlm.nih.gov/entrez/eutils/esummary.fcgi?db=pubmedhealth&id=77985'}"
      ]
     },
     "execution_count": 32,
     "metadata": {},
     "output_type": "execute_result"
    }
   ],
   "source": [
    "abstracts.find().next()"
   ]
  },
  {
   "cell_type": "code",
   "execution_count": 33,
   "metadata": {
    "collapsed": true
   },
   "outputs": [],
   "source": [
    "for element in abstract_list[1:]:\n",
    "    abstracts.save(element)"
   ]
  },
  {
   "cell_type": "code",
   "execution_count": 36,
   "metadata": {
    "collapsed": false
   },
   "outputs": [
    {
     "data": {
      "text/plain": [
       "1541"
      ]
     },
     "execution_count": 36,
     "metadata": {},
     "output_type": "execute_result"
    }
   ],
   "source": [
    "cursor = abstracts.find()\n",
    "abstracts.count()"
   ]
  }
 ],
 "metadata": {
  "kernelspec": {
   "display_name": "Python 2",
   "language": "python",
   "name": "python2"
  },
  "language_info": {
   "codemirror_mode": {
    "name": "ipython",
    "version": 2
   },
   "file_extension": ".py",
   "mimetype": "text/x-python",
   "name": "python",
   "nbconvert_exporter": "python",
   "pygments_lexer": "ipython2",
   "version": "2.7.9"
  }
 },
 "nbformat": 4,
 "nbformat_minor": 0
}
